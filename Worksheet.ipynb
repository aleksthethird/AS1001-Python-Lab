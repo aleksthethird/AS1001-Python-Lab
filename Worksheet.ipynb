{
 "metadata": {
  "name": "Worksheet.ipynb"
 },
 "nbformat": 3,
 "nbformat_minor": 0,
 "worksheets": [
  {
   "cells": [
    {
     "cell_type": "heading",
     "level": 1,
     "metadata": {},
     "source": [
      "Python Lab - Learning Programming using Quasars"
     ]
    },
    {
     "cell_type": "markdown",
     "metadata": {},
     "source": [
      "Quasars are amongst the most luminous astronomical objects. They are powered by black holes accreting gas from their surroundings. Despite their small sizes, much smaller than the galaxies they reside in, quasars outshine their \u201chost\u201d galaxies, in some cases they can be more than 100 times brighter. In this tutorial, we will analyze properties of quasars from the Sloan Digital Sky Survey (sdss.org).\n",
      "\n",
      "Note: all logarithms in this tutorial use base 10, not e!"
     ]
    },
    {
     "cell_type": "markdown",
     "metadata": {},
     "source": [
      "Useful links:\n",
      "\n",
      "* [Numpy Example List](http://wiki.scipy.org/Numpy_Example_List_With_Doc)\n",
      "* [matplotlib/pylab webpage](http://matplotlib.org/api/pyplot_summary.html)\n",
      "* [documentation for pylab.plot](http://matplotlib.org/api/pyplot_api.html#matplotlib.pyplot.plot)"
     ]
    },
    {
     "cell_type": "raw",
     "metadata": {},
     "source": [
      "Before getting started, import numpy and pylab as described in the tutorial."
     ]
    },
    {
     "cell_type": "code",
     "collapsed": false,
     "input": [],
     "language": "python",
     "metadata": {},
     "outputs": [],
     "prompt_number": 2
    },
    {
     "cell_type": "code",
     "collapsed": false,
     "input": [],
     "language": "python",
     "metadata": {},
     "outputs": [],
     "prompt_number": 2
    },
    {
     "cell_type": "heading",
     "level": 2,
     "metadata": {},
     "source": [
      "Question 1: Loading Data"
     ]
    },
    {
     "cell_type": "raw",
     "metadata": {},
     "source": [
      "Load the data file provided using numpy.loadtxt(). The data columns are given in the header."
     ]
    },
    {
     "cell_type": "code",
     "collapsed": false,
     "input": [],
     "language": "python",
     "metadata": {},
     "outputs": []
    },
    {
     "cell_type": "heading",
     "level": 2,
     "metadata": {},
     "source": [
      "Question 2: Array Basics"
     ]
    },
    {
     "cell_type": "raw",
     "metadata": {},
     "source": [
      "What is the range of log(L5100)? What is the minimum and maximum? What is the mean?"
     ]
    },
    {
     "cell_type": "code",
     "collapsed": false,
     "input": [],
     "language": "python",
     "metadata": {},
     "outputs": []
    },
    {
     "cell_type": "code",
     "collapsed": false,
     "input": [],
     "language": "python",
     "metadata": {},
     "outputs": []
    },
    {
     "cell_type": "code",
     "collapsed": false,
     "input": [],
     "language": "python",
     "metadata": {},
     "outputs": []
    },
    {
     "cell_type": "code",
     "collapsed": false,
     "input": [],
     "language": "python",
     "metadata": {},
     "outputs": []
    },
    {
     "cell_type": "heading",
     "level": 2,
     "metadata": {},
     "source": [
      "Question 3: Getting started with plotting"
     ]
    },
    {
     "cell_type": "raw",
     "metadata": {},
     "source": [
      "Plot some data from the file. Can you see any correlations? Label the axis on all your plots."
     ]
    },
    {
     "cell_type": "code",
     "collapsed": false,
     "input": [],
     "language": "python",
     "metadata": {},
     "outputs": []
    },
    {
     "cell_type": "code",
     "collapsed": false,
     "input": [],
     "language": "python",
     "metadata": {},
     "outputs": []
    },
    {
     "cell_type": "code",
     "collapsed": false,
     "input": [],
     "language": "python",
     "metadata": {},
     "outputs": []
    },
    {
     "cell_type": "code",
     "collapsed": false,
     "input": [],
     "language": "python",
     "metadata": {},
     "outputs": []
    },
    {
     "cell_type": "heading",
     "level": 2,
     "metadata": {},
     "source": [
      "Question 4: Plotting Part II: Histograms"
     ]
    },
    {
     "cell_type": "raw",
     "metadata": {},
     "source": [
      "Plot a histogram of the logarithm of the luminosity at 5100A. Remember to label your axis."
     ]
    },
    {
     "cell_type": "code",
     "collapsed": false,
     "input": [],
     "language": "python",
     "metadata": {},
     "outputs": []
    },
    {
     "cell_type": "heading",
     "level": 2,
     "metadata": {},
     "source": [
      "Question 5: Understanding data using plots"
     ]
    },
    {
     "cell_type": "raw",
     "metadata": {},
     "source": [
      "\u201cAbsolute magnitudes\u201d are given in the data as well. They are also a measure of how bright an object is. What is their range? From this data, can you say how magnitudes work?"
     ]
    },
    {
     "cell_type": "code",
     "collapsed": false,
     "input": [],
     "language": "python",
     "metadata": {},
     "outputs": []
    },
    {
     "cell_type": "code",
     "collapsed": false,
     "input": [],
     "language": "python",
     "metadata": {},
     "outputs": []
    },
    {
     "cell_type": "code",
     "collapsed": false,
     "input": [],
     "language": "python",
     "metadata": {},
     "outputs": []
    },
    {
     "cell_type": "heading",
     "level": 2,
     "metadata": {},
     "source": [
      "Question 6: Complex calculations using arrays"
     ]
    },
    {
     "cell_type": "raw",
     "metadata": {},
     "source": [
      "The table contains some values that can be used to calculate the mass of the black hole: the velocity dispersion of the gas and the luminosity at 3000\u00c5. You can calculate the black hole mass for all objects using the formula below. What is the range of black hole masses?"
     ]
    },
    {
     "cell_type": "markdown",
     "metadata": {},
     "source": [
      "$$M_{BH} = 10^{6.86} M_{\\odot} \\times \\left( \\dfrac{FWHM(MgII) [km/s]}{1000 km/s} \\right) ^{2} \\times \\left( \\dfrac{3000 \\times L_{3000} [erg/s]}{10^{44} erg/s}\\right) ^{0.5}$$"
     ]
    },
    {
     "cell_type": "code",
     "collapsed": false,
     "input": [],
     "language": "python",
     "metadata": {},
     "outputs": []
    },
    {
     "cell_type": "code",
     "collapsed": false,
     "input": [],
     "language": "python",
     "metadata": {},
     "outputs": []
    },
    {
     "cell_type": "code",
     "collapsed": false,
     "input": [],
     "language": "python",
     "metadata": {},
     "outputs": []
    },
    {
     "cell_type": "heading",
     "level": 2,
     "metadata": {},
     "source": [
      "Question 7: Defining a function"
     ]
    },
    {
     "cell_type": "raw",
     "metadata": {},
     "source": [
      "Define a function that allows to calculate the black hole mass for any quasar given the velocity dispersion in the gas and the luminosity."
     ]
    },
    {
     "cell_type": "code",
     "collapsed": false,
     "input": [],
     "language": "python",
     "metadata": {},
     "outputs": []
    },
    {
     "cell_type": "raw",
     "metadata": {},
     "source": [
      " What is the black hole mass of a quasar with the following properties:"
     ]
    },
    {
     "cell_type": "markdown",
     "metadata": {},
     "source": [
      "$$FWHM(MgII) = 5000 km\\ s^{-1}, L_{3000} = 10^{45} erg\\ s^{-1}$$"
     ]
    },
    {
     "cell_type": "code",
     "collapsed": false,
     "input": [],
     "language": "python",
     "metadata": {},
     "outputs": []
    },
    {
     "cell_type": "heading",
     "level": 2,
     "metadata": {},
     "source": [
      "Question 8: Fitting data using numpy"
     ]
    },
    {
     "cell_type": "raw",
     "metadata": {},
     "source": [
      "Does the logarithm of the black hole mass of an object correlate with the logarithm its luminosity at 5100A?"
     ]
    },
    {
     "cell_type": "code",
     "collapsed": false,
     "input": [],
     "language": "python",
     "metadata": {},
     "outputs": []
    },
    {
     "cell_type": "code",
     "collapsed": false,
     "input": [],
     "language": "python",
     "metadata": {},
     "outputs": []
    },
    {
     "cell_type": "raw",
     "metadata": {},
     "source": [
      "Show how they are related by fitting a line using numpy.polyfit."
     ]
    },
    {
     "cell_type": "code",
     "collapsed": false,
     "input": [],
     "language": "python",
     "metadata": {},
     "outputs": []
    },
    {
     "cell_type": "code",
     "collapsed": false,
     "input": [],
     "language": "python",
     "metadata": {},
     "outputs": []
    },
    {
     "cell_type": "raw",
     "metadata": {},
     "source": [
      " Make a plot showing the results."
     ]
    },
    {
     "cell_type": "code",
     "collapsed": false,
     "input": [],
     "language": "python",
     "metadata": {},
     "outputs": []
    },
    {
     "cell_type": "heading",
     "level": 2,
     "metadata": {},
     "source": [
      "Question 9: Correlations"
     ]
    },
    {
     "cell_type": "raw",
     "metadata": {},
     "source": [
      "The black hole mass and the luminosity look like they are correlated. Let's check if they are correlated using a statitiscal test. Import scipy.stats and then use the function scipy.stats.pearsonr to perform a Pearson rank correlation test. The function will return the correlation coefficient and the so-called p-value. The correlation coefficient is positive if the data are positively correlated (larger x means larger y) and negative if they are anti-correlated (larger x means smaller y). The p-value tells you if the correlation is statistically significant. If it is below 0.05, the correlation is statistically significant. Using the Pearson rand test, can you tell if the correlation is statistically significant? Does the correlation coefficient have a value that you expected from the plot?"
     ]
    },
    {
     "cell_type": "code",
     "collapsed": false,
     "input": [],
     "language": "python",
     "metadata": {},
     "outputs": []
    },
    {
     "cell_type": "code",
     "collapsed": false,
     "input": [],
     "language": "python",
     "metadata": {},
     "outputs": []
    },
    {
     "cell_type": "heading",
     "level": 2,
     "metadata": {},
     "source": [
      "Bonus question I: Advanced array manipulation"
     ]
    },
    {
     "cell_type": "raw",
     "metadata": {},
     "source": [
      "Some quasars have powerful jets, these are flows of particles moving close to the speed of light along a narrow beam. Jets emit synchrotron emission, which is visible in the radio. Have a look at the ratio of radio to optical emission (R). How does R correlate with the luminosity?"
     ]
    },
    {
     "cell_type": "code",
     "collapsed": false,
     "input": [],
     "language": "python",
     "metadata": {},
     "outputs": []
    },
    {
     "cell_type": "code",
     "collapsed": false,
     "input": [],
     "language": "python",
     "metadata": {},
     "outputs": []
    },
    {
     "cell_type": "raw",
     "metadata": {},
     "source": [
      "There are also morphological types. How many of each are there?"
     ]
    },
    {
     "cell_type": "code",
     "collapsed": false,
     "input": [],
     "language": "python",
     "metadata": {},
     "outputs": []
    },
    {
     "cell_type": "code",
     "collapsed": false,
     "input": [],
     "language": "python",
     "metadata": {},
     "outputs": []
    },
    {
     "cell_type": "code",
     "collapsed": false,
     "input": [],
     "language": "python",
     "metadata": {},
     "outputs": []
    },
    {
     "cell_type": "code",
     "collapsed": false,
     "input": [],
     "language": "python",
     "metadata": {},
     "outputs": []
    },
    {
     "cell_type": "raw",
     "metadata": {},
     "source": [
      "Do objects of morphological type 1 or 2 have higher luminosities?"
     ]
    },
    {
     "cell_type": "code",
     "collapsed": false,
     "input": [],
     "language": "python",
     "metadata": {},
     "outputs": []
    },
    {
     "cell_type": "code",
     "collapsed": false,
     "input": [],
     "language": "python",
     "metadata": {},
     "outputs": []
    },
    {
     "cell_type": "raw",
     "metadata": {},
     "source": [
      "What about black hole masses?"
     ]
    },
    {
     "cell_type": "code",
     "collapsed": false,
     "input": [],
     "language": "python",
     "metadata": {},
     "outputs": []
    },
    {
     "cell_type": "code",
     "collapsed": false,
     "input": [],
     "language": "python",
     "metadata": {},
     "outputs": []
    },
    {
     "cell_type": "heading",
     "level": 2,
     "metadata": {},
     "source": [
      "Bonus questions II: More advanced array manipulations"
     ]
    },
    {
     "cell_type": "raw",
     "metadata": {},
     "source": [
      "The column labelled BAL_FLAG indicates if an object has an ultra-fast outflow detected. 0 means no signs of outflow, 1 and higher indicate an outflow. How many objects have outflows?"
     ]
    },
    {
     "cell_type": "code",
     "collapsed": false,
     "input": [],
     "language": "python",
     "metadata": {},
     "outputs": []
    },
    {
     "cell_type": "code",
     "collapsed": false,
     "input": [],
     "language": "python",
     "metadata": {},
     "outputs": []
    },
    {
     "cell_type": "code",
     "collapsed": false,
     "input": [],
     "language": "python",
     "metadata": {},
     "outputs": []
    },
    {
     "cell_type": "raw",
     "metadata": {},
     "source": [
      "What percentage of quasars show outflows?"
     ]
    },
    {
     "cell_type": "code",
     "collapsed": false,
     "input": [],
     "language": "python",
     "metadata": {},
     "outputs": []
    },
    {
     "cell_type": "code",
     "collapsed": false,
     "input": [],
     "language": "python",
     "metadata": {},
     "outputs": []
    },
    {
     "cell_type": "code",
     "collapsed": false,
     "input": [],
     "language": "python",
     "metadata": {},
     "outputs": []
    },
    {
     "cell_type": "raw",
     "metadata": {},
     "source": [
      "Divide the sample into objects with and without outflow. How do their luminosities compare?"
     ]
    },
    {
     "cell_type": "code",
     "collapsed": false,
     "input": [],
     "language": "python",
     "metadata": {},
     "outputs": []
    },
    {
     "cell_type": "code",
     "collapsed": false,
     "input": [],
     "language": "python",
     "metadata": {},
     "outputs": []
    },
    {
     "cell_type": "code",
     "collapsed": false,
     "input": [],
     "language": "python",
     "metadata": {},
     "outputs": []
    },
    {
     "cell_type": "code",
     "collapsed": false,
     "input": [],
     "language": "python",
     "metadata": {},
     "outputs": []
    }
   ],
   "metadata": {}
  }
 ]
}